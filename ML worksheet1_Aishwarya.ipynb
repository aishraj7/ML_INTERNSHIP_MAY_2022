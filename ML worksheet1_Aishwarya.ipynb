{
 "cells": [
  {
   "cell_type": "markdown",
   "id": "a65014f5",
   "metadata": {},
   "source": [
    "1.Write a python function which should be capable of finding the factorial of any given number as an\n",
    "argument."
   ]
  },
  {
   "cell_type": "code",
   "execution_count": null,
   "id": "1bc4b35a",
   "metadata": {},
   "outputs": [],
   "source": [
    "def fact(num):\n",
    "    \"\"\"this is for factorial\"\"\"\n",
    "    a=1\n",
    "    for i in range(1,num+1):\n",
    "        a=a*i\n",
    "    return a\n",
    "num=int(input(\"enter any number\"))\n",
    "print(fact(num))"
   ]
  },
  {
   "cell_type": "markdown",
   "id": "18170a9d",
   "metadata": {},
   "source": [
    "2.Luke Skywalker has family and friends. Help him remind them who is who. Given a string with a\n",
    "name, return the relation of that person to Luke.\n",
    " Person-- Relation,\n",
    " Darth Vader-- father,\n",
    " Leia --sister,\n",
    " Han-- brother in law,\n",
    " R2D2-- droid,\n",
    "Example : relation_to_luke(\"Darth Vader\") ➞ \"Luke, I am your father.\""
   ]
  },
  {
   "cell_type": "code",
   "execution_count": null,
   "id": "c5939cfe",
   "metadata": {},
   "outputs": [],
   "source": [
    "d={\"darth vader\":\"father\",\"leia\":\"sister\",\"han\":\"brother-in-law\",\"r2d2\":\"droid\"}\n",
    "a=[]\n",
    "for i in d.keys(): #loop for storing keys in a list\n",
    "    a.append(i)\n",
    "print(a)\n",
    "b=[]\n",
    "for i in d.values(): #loop for storing values in a list\n",
    "    b.append(i)\n",
    "print(b)\n",
    "name=input(\"enter person's name\")\n",
    "c=name.casefold() #converting the userinput to lowercase so that ill be compared easily \n",
    "if(c==a[0]):\n",
    "    print(\"luke,im ur {}\".format(b[0]))\n",
    "elif(c==a[1]):\n",
    "    print(\"luke, im ur sister {}\".format(b[1]))\n",
    "elif(c==a[2]):\n",
    "    print(\"luke, im ur brother-in-law {}\".format(b[2]))\n",
    "elif(c==a[3]):\n",
    "    print(\"luke,im droid {}\".format(b[3]))\n",
    "else:\n",
    "    print(\"no relation with luke\")"
   ]
  },
  {
   "cell_type": "markdown",
   "id": "ca729e47",
   "metadata": {},
   "source": [
    "3.Create a function which takes a number as its argument and return the number of digits in it. Use\n",
    "of len function is not allowed. For example for 5 it should return 1, for 32 it should return 2 and 123 ,\n",
    "3 should be returned and so on."
   ]
  },
  {
   "cell_type": "code",
   "execution_count": null,
   "id": "a01393ee",
   "metadata": {},
   "outputs": [],
   "source": [
    "def digits(num):\n",
    "    \"\"\"this is for counting number of digits in a number\"\"\"\n",
    "    count=0\n",
    "    while (num!=0): \n",
    "        num=num//10 #flore division is used because there will be no issue if the given number is float\n",
    "        count=count+1\n",
    "    return count\n",
    "num=int(input(\"enter any number\"))\n",
    "print(digits(num))"
   ]
  },
  {
   "cell_type": "markdown",
   "id": "b3e99886",
   "metadata": {},
   "source": [
    "4.Write a function which takes a number as argument suppose 5 and gives results as multiplication\n",
    "of factorial of each positive number less than or equal to the number given. i.e !5*!4*!3*!2*!1 =\n",
    "34560.     "
   ]
  },
  {
   "cell_type": "code",
   "execution_count": null,
   "id": "a4810d7a",
   "metadata": {},
   "outputs": [],
   "source": [
    "def fact(n):\n",
    "    \"\"\"for factorial\"\"\"\n",
    "    a=1\n",
    "    for i in range(1,n+1):\n",
    "        a=a*i\n",
    "    return a\n",
    "n=int(input(\"enter any number\"))\n",
    "print(fact(n))\n",
    "p=1\n",
    "for j in range(1,n+1):\n",
    "    p=p*fact(j) # using the fact function to do factorial of decremented numbers\n",
    "print(p)"
   ]
  },
  {
   "cell_type": "markdown",
   "id": "6c31accf",
   "metadata": {},
   "source": [
    "5.Write a function which takes any number of arguments from a user and return the result which\n",
    "should be output of a2 + b2+ c2+... if a , b ,c are numbers supplied ..i.e if 1,2,3 are supplied then result\n",
    "returned should be 14. But user may supply any number of inputs so make the function to adapt to\n",
    "that."
   ]
  },
  {
   "cell_type": "code",
   "execution_count": null,
   "id": "953939e1",
   "metadata": {},
   "outputs": [],
   "source": [
    "def result(*numbers):\n",
    "    \"\"\"to print in the form of a2+b2+c2+...\"\"\"\n",
    "    sum1=0\n",
    "    for number in numbers:\n",
    "        sum1=sum1+(number*number) # main operation\n",
    "    return sum1"
   ]
  },
  {
   "cell_type": "code",
   "execution_count": 27,
   "id": "dc8fcc1f",
   "metadata": {},
   "outputs": [
    {
     "data": {
      "text/plain": [
       "103"
      ]
     },
     "execution_count": 27,
     "metadata": {},
     "output_type": "execute_result"
    }
   ],
   "source": [
    "result(1,2,3,5,8)"
   ]
  },
  {
   "cell_type": "markdown",
   "id": "edc205e4",
   "metadata": {},
   "source": [
    "6.Write a function which accepts 3 arguments from the user.1 .number 1, 2. Number2 and 3. An\n",
    "operation. The operation supported should be +, -, *, and /. The function should return the result of\n",
    "given operation. For example arguments are 3,2,+ then result returned should be 5.    "
   ]
  },
  {
   "cell_type": "code",
   "execution_count": null,
   "id": "5070127b",
   "metadata": {},
   "outputs": [],
   "source": [
    "def operation(num1,num2):\n",
    "    op=input(\"enter operation\")\n",
    "    if(op=='+'):\n",
    "        add=num1+num2\n",
    "        return(add)\n",
    "    elif(op=='-'):\n",
    "        sub=num1-num2\n",
    "        return(sub)\n",
    "    elif(op=='*'):\n",
    "        mul=num1*num2\n",
    "        return(mul)\n",
    "    elif(op=='/'):\n",
    "        div=num1/num2\n",
    "        return(div)\n",
    "    else:\n",
    "        return(\"no operation is performed\")\n",
    "num1=int(input(\"enter 1st number\"))\n",
    "num2=int(input(\"enter 2nd number\"))\n",
    "print(\"result is\" ,operation(num1,num2))"
   ]
  },
  {
   "cell_type": "markdown",
   "id": "c73c35d7",
   "metadata": {},
   "source": [
    "7.Write a function which takes an argument which should be a numeric +ve integer. Depending on\n",
    "the input supplied you have to print “I CAN”, “I WILL”. Suppose some one enters argument as 1 then\n",
    "only “I CAN” should be printed. But if some one enters 2 then first “I CAN” should be printed then “I\n",
    "WILL”. And if someone enters 3 then following should be printed in corresponding order: “I CAN”, “I\n",
    "WILL”, “I CAN” and so on for any numbers entered."
   ]
  },
  {
   "cell_type": "code",
   "execution_count": null,
   "id": "c0b5d292",
   "metadata": {},
   "outputs": [],
   "source": [
    "def repeat(n):\n",
    "    for i in range(1,n+1): \n",
    "        if(i%2==0):         # this block will give i will for even, i can for odd\n",
    "            print(\"i will\")\n",
    "        else:\n",
    "            print(\"i can\")\n",
    "        \n",
    "n=int(input(\"enter any positive integer\"))    \n",
    "repeat(n)"
   ]
  },
  {
   "cell_type": "markdown",
   "id": "32924ed1",
   "metadata": {},
   "source": [
    "8.We have been given a list of whole numbers which represents the color of each gloves, determine\n",
    "how many pairs of gloves with matching colors there are. For example, there are 7 gloves with\n",
    "colors [1, 2, 1, 2, 1, 3, 2]. There is one pair of color 1 and one of color 2. There are three odd gloves\n",
    "left, one of each color. The number of pairs is 2. Create a function that returns an integer representing\n",
    "the number of matching pairs of gloves that are available."
   ]
  },
  {
   "cell_type": "code",
   "execution_count": null,
   "id": "4d77387d",
   "metadata": {},
   "outputs": [],
   "source": [
    "def pair(l1):\n",
    "    \"\"\"gives number of pairs in a list\"\"\"\n",
    "    l1.sort() #sorting the list here\n",
    "    length=len(l1) #finding length using len function\n",
    "    count=0\n",
    "    i=0\n",
    "    while(i<(length-1)): \n",
    "        if(l1[i]==l1[i+1]):\n",
    "            count=count+1\n",
    "            i=i+2\n",
    "        else:\n",
    "            i=i+1\n",
    "    return count\n",
    "l1=[1,2,1,2,1,3,2]  #given list\n",
    "pair(l1)"
   ]
  },
  {
   "cell_type": "markdown",
   "id": "8f8ed089",
   "metadata": {},
   "source": [
    "9.Write a function that returns True if two arrays, when combined, form a consecutive sequence. A\n",
    "consecutive sequence is a sequence without any gaps in the integers, e.g. 1, 2, 3, 4, 5 is a\n",
    "consecutive sequence, but 1, 2, 4, 5 is not. Notes\n",
    "• The input lists will have unique values.\n",
    "• The input lists can be in any order.\n",
    "Examples\n",
    "consecutive_combo([7, 4, 5, 1], [2, 3, 6]) ➞ True\n",
    "consecutive_combo([1, 4, 6, 5], [2, 7, 8, 9]) ➞ False\n",
    "consecutive_combo([1, 4, 5, 6], [2, 3, 7, 8, 10]) ➞ False\n",
    "consecutive_combo([44, 46], [45]) ➞ True"
   ]
  },
  {
   "cell_type": "code",
   "execution_count": null,
   "id": "e74bb589",
   "metadata": {},
   "outputs": [],
   "source": [
    "def con_seq(l1,l2):\n",
    "    \"\"\"for consecutive sequence\"\"\"\n",
    "    l3=l1+l2  #concatinating the lists\n",
    "    l3.sort()\n",
    "    print(l3)\n",
    "    length=len(l3)\n",
    "    for i in range(1,length):\n",
    "        if(l3[i]!=(l3[i-1]+1)):\n",
    "            return False \n",
    "    return True\n",
    "l1=[3,5,4]\n",
    "l2=[1,6]\n",
    "con_seq(l1,l2)\n"
   ]
  },
  {
   "cell_type": "markdown",
   "id": "42b51191",
   "metadata": {},
   "source": [
    "10.You work for a manufacturer, and have been asked to calculate the total profit made on the sales\n",
    "of a product. You are given a dictionary containing the cost price per unit (in dollars), sell price per\n",
    "unit (in dollars), and the starting inventory. Return the total profit made, rounded to the nearest\n",
    "dollar."
   ]
  },
  {
   "cell_type": "code",
   "execution_count": null,
   "id": "e158f9bc",
   "metadata": {},
   "outputs": [],
   "source": [
    "d={\"cost_price\":32.67,\"sell_price\":45.00} # providing the information about product\n",
    "inventory=1200\n",
    "a=d.get(\"cost_price\") #taking cost price from the dict and storing in a\n",
    "b=d.get(\"sell_price\") #taking sell price from the dict and storing in b\n",
    "profit=(b-a)*inventory #calculating the profit\n",
    "print(profit)"
   ]
  },
  {
   "cell_type": "code",
   "execution_count": null,
   "id": "2814d276",
   "metadata": {},
   "outputs": [],
   "source": []
  },
  {
   "cell_type": "code",
   "execution_count": null,
   "id": "7f305d8a",
   "metadata": {},
   "outputs": [],
   "source": []
  },
  {
   "cell_type": "code",
   "execution_count": null,
   "id": "7decf46e",
   "metadata": {},
   "outputs": [],
   "source": []
  },
  {
   "cell_type": "code",
   "execution_count": null,
   "id": "dfbe1a0d",
   "metadata": {},
   "outputs": [],
   "source": []
  },
  {
   "cell_type": "code",
   "execution_count": null,
   "id": "aa6c5a93",
   "metadata": {},
   "outputs": [],
   "source": []
  },
  {
   "cell_type": "code",
   "execution_count": null,
   "id": "5a43c230",
   "metadata": {},
   "outputs": [],
   "source": []
  },
  {
   "cell_type": "code",
   "execution_count": null,
   "id": "8662d6a3",
   "metadata": {},
   "outputs": [],
   "source": []
  },
  {
   "cell_type": "code",
   "execution_count": null,
   "id": "110663da",
   "metadata": {},
   "outputs": [],
   "source": []
  },
  {
   "cell_type": "code",
   "execution_count": null,
   "id": "82d77151",
   "metadata": {},
   "outputs": [],
   "source": []
  }
 ],
 "metadata": {
  "kernelspec": {
   "display_name": "Python 3 (ipykernel)",
   "language": "python",
   "name": "python3"
  },
  "language_info": {
   "codemirror_mode": {
    "name": "ipython",
    "version": 3
   },
   "file_extension": ".py",
   "mimetype": "text/x-python",
   "name": "python",
   "nbconvert_exporter": "python",
   "pygments_lexer": "ipython3",
   "version": "3.9.12"
  }
 },
 "nbformat": 4,
 "nbformat_minor": 5
}
